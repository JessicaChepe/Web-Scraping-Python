{
 "cells": [
  {
   "cell_type": "markdown",
   "id": "558139a9",
   "metadata": {},
   "source": [
    "# Beautiful Soup\n",
    "\n",
    "Es una Biblioteca de Python diseñada para recuperar información de archivos HTML y XML. Se integra con diversos analizadores sintácticos para facilitar la navegación, búsqueda y modificación del árbol de análisis, lo que suele ahorrar a los desarrolladores horas o incluso días de trabajo.\n",
    "\n",
    "Documentación oficial: https://beautiful-soup-4.readthedocs.io/en/latest/"
   ]
  },
  {
   "cell_type": "markdown",
   "id": "46957eca",
   "metadata": {},
   "source": [
    "## Generalidades\n",
    "Vamos a practicar con https://scrapepark.org/spanish/"
   ]
  },
  {
   "cell_type": "code",
   "execution_count": 1,
   "id": "9f4cf2ea",
   "metadata": {},
   "outputs": [],
   "source": [
    "from bs4 import BeautifulSoup\n",
    "import requests"
   ]
  },
  {
   "cell_type": "code",
   "execution_count": 2,
   "id": "ff6531a5",
   "metadata": {},
   "outputs": [
    {
     "name": "stdout",
     "output_type": "stream",
     "text": [
      "Versión de BeautifulSoup: 4.11.1\n",
      "Versión de requests: 2.31.0\n"
     ]
    }
   ],
   "source": [
    "# Versiones\n",
    "import bs4 # Solo para el chequeo\n",
    "print(\"Versión de BeautifulSoup:\",bs4.__version__)\n",
    "print(\"Versión de requests:\", requests.__version__)"
   ]
  },
  {
   "cell_type": "code",
   "execution_count": 3,
   "id": "51bd849a",
   "metadata": {},
   "outputs": [],
   "source": [
    "# Empezamos el scraping\n",
    "\n",
    "# 1. Obtener el HTML\n",
    "URL_BASE = 'https://scrapepark.org/courses/spanish/'\n",
    "pedido_obtenido = requests.get(URL_BASE)\n",
    "html_obtenido = pedido_obtenido.text\n",
    "\n",
    "# 2. \"Parsear\" ese HTML\n",
    "soup = BeautifulSoup(html_obtenido, \"html.parser\")"
   ]
  },
  {
   "cell_type": "code",
   "execution_count": 4,
   "id": "6b0b8949",
   "metadata": {},
   "outputs": [
    {
     "data": {
      "text/plain": [
       "bs4.BeautifulSoup"
      ]
     },
     "execution_count": 4,
     "metadata": {},
     "output_type": "execute_result"
    }
   ],
   "source": [
    "type(soup)"
   ]
  },
  {
   "cell_type": "markdown",
   "id": "c2f5603f",
   "metadata": {},
   "source": [
    "## El método `find()`\n",
    "\n",
    "Nos permite quedarnos con la información asociada a una etiqueta de HTML"
   ]
  },
  {
   "cell_type": "code",
   "execution_count": 5,
   "id": "0b3471b3",
   "metadata": {},
   "outputs": [
    {
     "name": "stdout",
     "output_type": "stream",
     "text": [
      "<h2>¿Por qué comprar con nosotros?</h2>\n"
     ]
    }
   ],
   "source": [
    "primer_h2 = soup.find('h2')\n",
    "print(primer_h2)"
   ]
  },
  {
   "cell_type": "code",
   "execution_count": 6,
   "id": "194db156",
   "metadata": {},
   "outputs": [
    {
     "name": "stdout",
     "output_type": "stream",
     "text": [
      "¿Por qué comprar con nosotros?\n"
     ]
    }
   ],
   "source": [
    "# Solo el texto\n",
    "print(primer_h2.text)\n",
    "\n",
    "# equivalente a:\n",
    "# print(soup.h2.text)"
   ]
  },
  {
   "cell_type": "markdown",
   "id": "2f540a48",
   "metadata": {},
   "source": [
    "## El método `find_all()`\n",
    "\n",
    "Busca **TODOS** los elementos de la página con esa etiqueta y devuelve una \"lista\" que los contiene (en realidad devuelve un objeto de la clase *bs4.element.ResultSet*)."
   ]
  },
  {
   "cell_type": "code",
   "execution_count": 7,
   "id": "240ccf8c",
   "metadata": {},
   "outputs": [
    {
     "name": "stdout",
     "output_type": "stream",
     "text": [
      "[<h2>¿Por qué comprar con nosotros?</h2>, <h2>\r\n",
      "                  #Novedades\r\n",
      "                </h2>, <h2>\r\n",
      "            Nuestros <span>productos</span>\n",
      "</h2>, <h2>\r\n",
      "            Testimonios de clientes\r\n",
      "          </h2>, <h2 class=\"heading-container\">\r\n",
      "          Tabla de precios\r\n",
      "        </h2>]\n"
     ]
    }
   ],
   "source": [
    "h2_todos = soup.find_all('h2')\n",
    "print(h2_todos)"
   ]
  },
  {
   "cell_type": "code",
   "execution_count": 8,
   "id": "4e74800c",
   "metadata": {},
   "outputs": [
    {
     "name": "stdout",
     "output_type": "stream",
     "text": [
      "[<h2>¿Por qué comprar con nosotros?</h2>]\n"
     ]
    }
   ],
   "source": [
    "# ARGUMENTOS\n",
    "# Si usamos el parametro limit = 1, emulamos al metodo find\n",
    "h2_uno_solo = soup.find_all('h2',limit=1)\n",
    "print(h2_uno_solo)"
   ]
  },
  {
   "cell_type": "code",
   "execution_count": 9,
   "id": "f36bf90b",
   "metadata": {},
   "outputs": [
    {
     "name": "stdout",
     "output_type": "stream",
     "text": [
      "¿Por qué comprar con nosotros?\n",
      "\r\n",
      "                  #Novedades\r\n",
      "                \n",
      "\r\n",
      "            Nuestros productos\n",
      "\n",
      "\r\n",
      "            Testimonios de clientes\r\n",
      "          \n",
      "\r\n",
      "          Tabla de precios\r\n",
      "        \n"
     ]
    }
   ],
   "source": [
    "# Podemos iterar sobre el objeto\n",
    "for seccion in h2_todos:\n",
    "  print(seccion.text)"
   ]
  },
  {
   "cell_type": "code",
   "execution_count": 10,
   "id": "e445e934",
   "metadata": {},
   "outputs": [
    {
     "name": "stdout",
     "output_type": "stream",
     "text": [
      "¿Por qué comprar con nosotros?\n",
      "#Novedades\n",
      "Nuestrosproductos\n",
      "Testimonios de clientes\n",
      "Tabla de precios\n"
     ]
    }
   ],
   "source": [
    "# get_text() para más funcionalidades\n",
    "for seccion in h2_todos:\n",
    "  print(seccion.get_text(strip=True))"
   ]
  },
  {
   "cell_type": "markdown",
   "id": "2be084b1",
   "metadata": {},
   "source": [
    "## Utilizando atributos de las etiquetas"
   ]
  },
  {
   "cell_type": "code",
   "execution_count": 11,
   "id": "e8e7b528",
   "metadata": {},
   "outputs": [
    {
     "name": "stdout",
     "output_type": "stream",
     "text": [
      "<div class=\"heading-container heading-center\" id=\"acerca\">\n",
      "<h2>¿Por qué comprar con nosotros?</h2>\n",
      "</div>\n",
      " \n",
      "<div class=\"heading-container heading-center\" id=\"productos\">\n",
      "<h2>\r\n",
      "            Nuestros <span>productos</span>\n",
      "</h2>\n",
      "</div>\n",
      " \n",
      "<div class=\"heading-container heading-center\">\n",
      "<h3>Suscríbete para obtener descuentos y ofertas</h3>\n",
      "</div>\n",
      " \n",
      "<div class=\"heading-container heading-center\">\n",
      "<h2>\r\n",
      "            Testimonios de clientes\r\n",
      "          </h2>\n",
      "</div>\n",
      " \n"
     ]
    }
   ],
   "source": [
    "# Clase\n",
    "divs = soup.find_all('div', class_ = \"heading-container heading-center\")\n",
    "\n",
    "for div in divs:\n",
    "  print(div)\n",
    "  print(\" \")"
   ]
  },
  {
   "cell_type": "code",
   "execution_count": 12,
   "id": "e38c7cc1",
   "metadata": {},
   "outputs": [
    {
     "name": "stdout",
     "output_type": "stream",
     "text": [
      "<img alt=\"Parque de patinaje\" src=\"images/slider-bg.jpg\"/>\n",
      "<img alt=\"Patineta 2\" src=\"images/p2.jpg\"/>\n"
     ]
    }
   ],
   "source": [
    "# Todas las etiquetas que tengan el atributo \"src\"\n",
    "src_todos = soup.find_all(src=True)\n",
    "\n",
    "for elemento in src_todos:\n",
    "  if elemento['src'].endswith(\".jpg\"):\n",
    "    print(elemento)"
   ]
  },
  {
   "cell_type": "markdown",
   "id": "c9651674",
   "metadata": {},
   "source": [
    "## Bajar todas las imagenes"
   ]
  },
  {
   "cell_type": "code",
   "execution_count": 13,
   "id": "f01f3d80",
   "metadata": {},
   "outputs": [
    {
     "name": "stdout",
     "output_type": "stream",
     "text": [
      "images/arrival-bg-store.png\n",
      "images/p1.png\n",
      "images/p3.png\n",
      "images/p4.png\n",
      "images/p5.png\n",
      "images/p6.png\n",
      "images/p7.png\n",
      "images/p8.png\n",
      "images/p9.png\n",
      "images/p10.png\n",
      "images/p11.png\n",
      "images/p12.png\n",
      "images/client-one.png\n",
      "images/client-two.png\n",
      "images/client-three.png\n",
      "./images/freecodecamp-logo.png\n"
     ]
    }
   ],
   "source": [
    "url_imagenes = []\n",
    "\n",
    "for i, imagen in enumerate(src_todos):\n",
    "\n",
    "  if imagen['src'].endswith('png'):\n",
    "\n",
    "    print(imagen['src'])\n",
    "    r = requests.get(f\"https://scrapepark.org/courses/spanish/{imagen['src']}\")\n",
    "\n",
    "    with open(f'imagen_{i}.png', 'wb') as f:\n",
    "      f.write(r.content)"
   ]
  },
  {
   "cell_type": "markdown",
   "id": "bef96637",
   "metadata": {},
   "source": [
    "## Tablas"
   ]
  },
  {
   "cell_type": "code",
   "execution_count": 14,
   "id": "6062576d",
   "metadata": {},
   "outputs": [
    {
     "data": {
      "text/plain": [
       "'table.html'"
      ]
     },
     "execution_count": 14,
     "metadata": {},
     "output_type": "execute_result"
    }
   ],
   "source": [
    "soup.find_all('iframe')[0]['src']"
   ]
  },
  {
   "cell_type": "code",
   "execution_count": 15,
   "id": "e1ee7e3e",
   "metadata": {},
   "outputs": [
    {
     "name": "stdout",
     "output_type": "stream",
     "text": [
      "['Longboard', '$80', '$85', '$90', '$62', '$150']\n"
     ]
    }
   ],
   "source": [
    "# Información de tablas\n",
    "\n",
    "URL_BASE = 'https://scrapepark.org/courses/spanish'\n",
    "URL_TABLA = soup.find_all('iframe')[0]['src']\n",
    "\n",
    "request_tabla = requests.get(f'{URL_BASE}/{URL_TABLA}')\n",
    "\n",
    "html_tabla = request_tabla.text\n",
    "soup_tabla = BeautifulSoup(html_tabla, \"html.parser\")\n",
    "soup_tabla.find('table')\n",
    "\n",
    "productos_faltantes = soup_tabla.find_all(['th', 'td'], attrs={'style':'color: red;'})\n",
    "productos_faltantes = [talle.text for talle in productos_faltantes]\n",
    "\n",
    "print(productos_faltantes)"
   ]
  },
  {
   "cell_type": "code",
   "execution_count": 16,
   "id": "2828b200",
   "metadata": {
    "scrolled": true
   },
   "outputs": [
    {
     "name": "stdout",
     "output_type": "stream",
     "text": [
      "producto: Patineta Nueva 1 | precio: 75\n",
      "producto: Patineta Usada 2 | precio: 80\n",
      "producto: Patineta Nueva 3 | precio: 68\n",
      "producto: Patineta Usada 4 | precio: 70\n",
      "producto: Patineta Nueva 5 | precio: 75\n",
      "producto: Patineta Nueva 6 | precio: 58\n",
      "producto: Patineta Nueva 7 | precio: 80\n",
      "producto: Patineta Nueva 8 | precio: 35\n",
      "producto: Patineta Nueva 9 | precio: 165\n",
      "producto: Patineta Usada 10 | precio: 54\n",
      "producto: Patineta Usada 11 | precio: 99\n",
      "producto: Patineta Nueva 12 | precio: 110\n"
     ]
    }
   ],
   "source": [
    "divs = soup.find_all('div', class_='detail-box')\n",
    "productos = []\n",
    "precios = []\n",
    "\n",
    "for div in divs:\n",
    "  if (div.h6 is not None) and ('Patineta' in div.h5.text):\n",
    "    producto = div.h5.get_text(strip=True)\n",
    "    precio = div.h6.get_text(strip=True).replace('$', '')\n",
    "    # Se puede agregar filtros\n",
    "    print(f'producto: {producto:<16} | precio: {precio}')\n",
    "    productos.append(producto)\n",
    "    precios.append(precio)"
   ]
  },
  {
   "cell_type": "code",
   "execution_count": 17,
   "id": "5708f30e",
   "metadata": {},
   "outputs": [
    {
     "data": {
      "text/plain": [
       "['75', '80', '68', '70', '75', '58', '80', '35', '165', '54', '99', '110']"
      ]
     },
     "execution_count": 17,
     "metadata": {},
     "output_type": "execute_result"
    }
   ],
   "source": [
    "precios"
   ]
  },
  {
   "cell_type": "code",
   "execution_count": 18,
   "id": "76228ab6",
   "metadata": {},
   "outputs": [
    {
     "data": {
      "text/plain": [
       "['Patineta Nueva 1',\n",
       " 'Patineta Usada 2',\n",
       " 'Patineta Nueva 3',\n",
       " 'Patineta Usada 4',\n",
       " 'Patineta Nueva 5',\n",
       " 'Patineta Nueva 6',\n",
       " 'Patineta Nueva 7',\n",
       " 'Patineta Nueva 8',\n",
       " 'Patineta Nueva 9',\n",
       " 'Patineta Usada 10',\n",
       " 'Patineta Usada 11',\n",
       " 'Patineta Nueva 12']"
      ]
     },
     "execution_count": 18,
     "metadata": {},
     "output_type": "execute_result"
    }
   ],
   "source": [
    "productos"
   ]
  },
  {
   "cell_type": "markdown",
   "id": "852794ea",
   "metadata": {},
   "source": [
    "## Cambios que dependen de la URL"
   ]
  },
  {
   "cell_type": "code",
   "execution_count": 19,
   "id": "fa560c09",
   "metadata": {},
   "outputs": [
    {
     "name": "stdout",
     "output_type": "stream",
     "text": [
      "https://scrapepark.org/courses/spanish/contact1\n",
      "Texto que cambia entre páginas en contacto 1 :)\n",
      "https://scrapepark.org/courses/spanish/contact2\n",
      "Texto que cambia entre páginas en contacto 2 :)\n"
     ]
    }
   ],
   "source": [
    "URL_BASE = \"https://scrapepark.org/courses/spanish/contact\"\n",
    "\n",
    "for i in range(1,3):\n",
    "  URL_FINAL = f\"{URL_BASE}{i}\"\n",
    "  print(URL_FINAL)\n",
    "  r = requests.get(URL_FINAL)\n",
    "  soup = BeautifulSoup(r.text, \"html.parser\")\n",
    "  print(soup.h5.text)"
   ]
  },
  {
   "cell_type": "markdown",
   "id": "87c30c56",
   "metadata": {},
   "source": [
    "## Datos que no sabemos en que parte de la página se encuentran"
   ]
  },
  {
   "cell_type": "code",
   "execution_count": 20,
   "id": "417acdd3",
   "metadata": {},
   "outputs": [
    {
     "data": {
      "text/plain": [
       "[' 4-444-4444']"
      ]
     },
     "execution_count": 20,
     "metadata": {},
     "output_type": "execute_result"
    }
   ],
   "source": [
    "# Expresiones regulares\n",
    "import re\n",
    "\n",
    "# 1. Obtener el HTML\n",
    "URL_BASE = 'https://scrapepark.org/courses/spanish'\n",
    "pedido_obtenido = requests.get(URL_BASE)\n",
    "html_obtenido = pedido_obtenido.text\n",
    "\n",
    "# 2. \"Parsear\" ese HTML\n",
    "soup = BeautifulSoup(html_obtenido, \"html.parser\")\n",
    "# expresiones regulares\n",
    "telefonos = soup.find_all(string=re.compile(\"\\d+-\\d+-\\d+\"))\n",
    "telefonos"
   ]
  },
  {
   "cell_type": "markdown",
   "id": "24f47e21",
   "metadata": {},
   "source": [
    "## **Moviéndonos por el árbol**\n",
    "\n",
    "Para saber más: https://www.crummy.com/software/BeautifulSoup/bs4/doc/#searching-the-tree"
   ]
  },
  {
   "cell_type": "code",
   "execution_count": 21,
   "id": "2d44908a",
   "metadata": {},
   "outputs": [
    {
     "data": {
      "text/plain": [
       "'© 2022 '"
      ]
     },
     "execution_count": 21,
     "metadata": {},
     "output_type": "execute_result"
    }
   ],
   "source": [
    "copyrights = soup.find_all(string=re.compile(\"©\"))\n",
    "copyrights[0]"
   ]
  },
  {
   "cell_type": "code",
   "execution_count": 22,
   "id": "4477a427",
   "metadata": {},
   "outputs": [
    {
     "data": {
      "text/plain": [
       "<p>© 2022 <span>Todos los derechos reservados</span>.\n",
       "        <a href=\"https://html.design/\" rel=\"noopener noreferrer\" target=\"_blank\">Creado con Free Html Templates</a>.\n",
       "      </p>"
      ]
     },
     "execution_count": 22,
     "metadata": {},
     "output_type": "execute_result"
    }
   ],
   "source": [
    "primer_copyright = copyrights[0]\n",
    "primer_copyright.parent"
   ]
  },
  {
   "cell_type": "code",
   "execution_count": 23,
   "id": "4c790639",
   "metadata": {},
   "outputs": [
    {
     "data": {
      "text/plain": [
       "[<ul>\n",
       " <li><a href=\"#\">Inicio</a></li>\n",
       " <li><a href=\"#\">Acerca</a></li>\n",
       " <li><a href=\"#\">Servicios</a></li>\n",
       " <li><a href=\"#\">Testimonios</a></li>\n",
       " <li><a href=\"#\">Contacto</a></li>\n",
       " </ul>]"
      ]
     },
     "execution_count": 23,
     "metadata": {},
     "output_type": "execute_result"
    }
   ],
   "source": [
    "# # Otro ejemplo con elementos al mismo nivel\n",
    "menu = soup.find(string=re.compile(\"MENÚ\"))\n",
    "# menu.parent\n",
    "menu.parent.find_next_siblings()"
   ]
  },
  {
   "cell_type": "markdown",
   "id": "764ed0e7",
   "metadata": {},
   "source": [
    "## Comentario sobre excepciones\n",
    "https://docs.python.org/es/3/tutorial/errors.html"
   ]
  },
  {
   "cell_type": "code",
   "execution_count": 24,
   "id": "f17d74b7",
   "metadata": {},
   "outputs": [
    {
     "name": "stdout",
     "output_type": "stream",
     "text": [
      "MENÚ\n",
      "© 2022 \n",
      "El string 'carpincho' no fue encontrado\n",
      "\r\n",
      "                  Patineta Nueva 1\r\n",
      "                \n"
     ]
    }
   ],
   "source": [
    "strings_a_buscar = [\"MENÚ\", \"©\", \"carpincho\", \"Patineta\"]\n",
    "\n",
    "for string in strings_a_buscar:\n",
    "  try:\n",
    "    resultado = soup.find(string=re.compile(string))\n",
    "    print(resultado.text)\n",
    "  except AttributeError:\n",
    "    print(f\"El string '{string}' no fue encontrado\")"
   ]
  },
  {
   "cell_type": "markdown",
   "id": "76a6db78",
   "metadata": {},
   "source": [
    "## Almacenamiento de los datos"
   ]
  },
  {
   "cell_type": "code",
   "execution_count": 25,
   "id": "8b790765",
   "metadata": {},
   "outputs": [],
   "source": [
    "productos.insert(0, \"productos\")\n",
    "precios.insert(0, \"precios\")\n",
    "# datos = dict(zip(productos, precios))"
   ]
  },
  {
   "cell_type": "code",
   "execution_count": 26,
   "id": "17a999cb",
   "metadata": {},
   "outputs": [],
   "source": [
    "datos = dict(zip(productos, precios))"
   ]
  },
  {
   "cell_type": "code",
   "execution_count": 27,
   "id": "e93678fa",
   "metadata": {},
   "outputs": [
    {
     "data": {
      "text/plain": [
       "dict_items([('productos', 'precios'), ('Patineta Nueva 1', '75'), ('Patineta Usada 2', '80'), ('Patineta Nueva 3', '68'), ('Patineta Usada 4', '70'), ('Patineta Nueva 5', '75'), ('Patineta Nueva 6', '58'), ('Patineta Nueva 7', '80'), ('Patineta Nueva 8', '35'), ('Patineta Nueva 9', '165'), ('Patineta Usada 10', '54'), ('Patineta Usada 11', '99'), ('Patineta Nueva 12', '110')])"
      ]
     },
     "execution_count": 27,
     "metadata": {},
     "output_type": "execute_result"
    }
   ],
   "source": [
    "datos.items()"
   ]
  },
  {
   "cell_type": "code",
   "execution_count": 28,
   "id": "1228d9cb",
   "metadata": {},
   "outputs": [],
   "source": [
    "import csv\n",
    "\n",
    "with open('datos.csv','w') as f:\n",
    "    w = csv.writer(f)\n",
    "    w.writerows(datos.items())"
   ]
  },
  {
   "cell_type": "code",
   "execution_count": 29,
   "id": "98be260f",
   "metadata": {},
   "outputs": [
    {
     "data": {
      "text/html": [
       "<div>\n",
       "<style scoped>\n",
       "    .dataframe tbody tr th:only-of-type {\n",
       "        vertical-align: middle;\n",
       "    }\n",
       "\n",
       "    .dataframe tbody tr th {\n",
       "        vertical-align: top;\n",
       "    }\n",
       "\n",
       "    .dataframe thead th {\n",
       "        text-align: right;\n",
       "    }\n",
       "</style>\n",
       "<table border=\"1\" class=\"dataframe\">\n",
       "  <thead>\n",
       "    <tr style=\"text-align: right;\">\n",
       "      <th></th>\n",
       "      <th>productos</th>\n",
       "      <th>precios</th>\n",
       "    </tr>\n",
       "  </thead>\n",
       "  <tbody>\n",
       "    <tr>\n",
       "      <th>0</th>\n",
       "      <td>Patineta Nueva 1</td>\n",
       "      <td>75</td>\n",
       "    </tr>\n",
       "    <tr>\n",
       "      <th>1</th>\n",
       "      <td>Patineta Usada 2</td>\n",
       "      <td>80</td>\n",
       "    </tr>\n",
       "    <tr>\n",
       "      <th>2</th>\n",
       "      <td>Patineta Nueva 3</td>\n",
       "      <td>68</td>\n",
       "    </tr>\n",
       "    <tr>\n",
       "      <th>3</th>\n",
       "      <td>Patineta Usada 4</td>\n",
       "      <td>70</td>\n",
       "    </tr>\n",
       "    <tr>\n",
       "      <th>4</th>\n",
       "      <td>Patineta Nueva 5</td>\n",
       "      <td>75</td>\n",
       "    </tr>\n",
       "    <tr>\n",
       "      <th>5</th>\n",
       "      <td>Patineta Nueva 6</td>\n",
       "      <td>58</td>\n",
       "    </tr>\n",
       "    <tr>\n",
       "      <th>6</th>\n",
       "      <td>Patineta Nueva 7</td>\n",
       "      <td>80</td>\n",
       "    </tr>\n",
       "    <tr>\n",
       "      <th>7</th>\n",
       "      <td>Patineta Nueva 8</td>\n",
       "      <td>35</td>\n",
       "    </tr>\n",
       "    <tr>\n",
       "      <th>8</th>\n",
       "      <td>Patineta Nueva 9</td>\n",
       "      <td>165</td>\n",
       "    </tr>\n",
       "    <tr>\n",
       "      <th>9</th>\n",
       "      <td>Patineta Usada 10</td>\n",
       "      <td>54</td>\n",
       "    </tr>\n",
       "    <tr>\n",
       "      <th>10</th>\n",
       "      <td>Patineta Usada 11</td>\n",
       "      <td>99</td>\n",
       "    </tr>\n",
       "    <tr>\n",
       "      <th>11</th>\n",
       "      <td>Patineta Nueva 12</td>\n",
       "      <td>110</td>\n",
       "    </tr>\n",
       "  </tbody>\n",
       "</table>\n",
       "</div>"
      ],
      "text/plain": [
       "            productos  precios\n",
       "0    Patineta Nueva 1       75\n",
       "1    Patineta Usada 2       80\n",
       "2    Patineta Nueva 3       68\n",
       "3    Patineta Usada 4       70\n",
       "4    Patineta Nueva 5       75\n",
       "5    Patineta Nueva 6       58\n",
       "6    Patineta Nueva 7       80\n",
       "7    Patineta Nueva 8       35\n",
       "8    Patineta Nueva 9      165\n",
       "9   Patineta Usada 10       54\n",
       "10  Patineta Usada 11       99\n",
       "11  Patineta Nueva 12      110"
      ]
     },
     "execution_count": 29,
     "metadata": {},
     "output_type": "execute_result"
    }
   ],
   "source": [
    "import pandas as pd\n",
    "dataset = pd.read_csv(\"C://Users//Jessica//Documents//REPOSITORIO GIT HUP//Web-Scraping-Python//datos.csv\")\n",
    "dataset"
   ]
  },
  {
   "cell_type": "code",
   "execution_count": 30,
   "id": "3a794c94",
   "metadata": {},
   "outputs": [
    {
     "data": {
      "text/plain": [
       "['productos',\n",
       " 'Patineta Nueva 1',\n",
       " 'Patineta Usada 2',\n",
       " 'Patineta Nueva 3',\n",
       " 'Patineta Usada 4',\n",
       " 'Patineta Nueva 5',\n",
       " 'Patineta Nueva 6',\n",
       " 'Patineta Nueva 7',\n",
       " 'Patineta Nueva 8',\n",
       " 'Patineta Nueva 9',\n",
       " 'Patineta Usada 10',\n",
       " 'Patineta Usada 11',\n",
       " 'Patineta Nueva 12']"
      ]
     },
     "execution_count": 30,
     "metadata": {},
     "output_type": "execute_result"
    }
   ],
   "source": [
    "productos"
   ]
  },
  {
   "cell_type": "code",
   "execution_count": 31,
   "id": "1a5ae2ee",
   "metadata": {},
   "outputs": [
    {
     "data": {
      "text/plain": [
       "['precios',\n",
       " '75',\n",
       " '80',\n",
       " '68',\n",
       " '70',\n",
       " '75',\n",
       " '58',\n",
       " '80',\n",
       " '35',\n",
       " '165',\n",
       " '54',\n",
       " '99',\n",
       " '110']"
      ]
     },
     "execution_count": 31,
     "metadata": {},
     "output_type": "execute_result"
    }
   ],
   "source": [
    "precios"
   ]
  },
  {
   "cell_type": "markdown",
   "id": "3177da5e",
   "metadata": {},
   "source": [
    "### 1. Las patinetas que salgan menos que $68"
   ]
  },
  {
   "cell_type": "code",
   "execution_count": 32,
   "id": "bc8e0f1c",
   "metadata": {
    "scrolled": true
   },
   "outputs": [
    {
     "name": "stdout",
     "output_type": "stream",
     "text": [
      "producto: Patineta Nueva 6 | precio: 58\n",
      "producto: Patineta Nueva 8 | precio: 35\n",
      "producto: Patineta Usada 10 | precio: 54\n"
     ]
    }
   ],
   "source": [
    "divs_m = soup.find_all('div', class_='detail-box')\n",
    "productos_m = []\n",
    "precios_m = []\n",
    "\n",
    "for div in divs_m:\n",
    "    if (div.h6 is not None) and ('Patineta' in div.h5.text):\n",
    "        precio_texto = div.h6.get_text(strip=True).replace('$', '')\n",
    "        precio_numero = float(precio_texto)\n",
    "        if precio_numero < 68:\n",
    "            producto = div.h5.get_text(strip=True)\n",
    "            precio = precio_texto\n",
    "            print(f'producto: {producto:<16} | precio: {precio}')\n",
    "            productos_m.append(producto)\n",
    "            precios_m.append(precio)"
   ]
  },
  {
   "cell_type": "markdown",
   "id": "9537418c",
   "metadata": {},
   "source": [
    "Conclusión: Como podemos ver los resultados, se logro mostrar las patinetas menores a $68. Lo que se volvio a recorrer div y asi ubicando los precios con una condicional de que sean menor \"<\" por lo que si deseamos sea mayor el simbolo se cambia \">\""
   ]
  },
  {
   "cell_type": "markdown",
   "id": "cc8dee67",
   "metadata": {},
   "source": [
    "### 2. Las patinetas que en su nombre tengan un numero mayor a 3"
   ]
  },
  {
   "cell_type": "code",
   "execution_count": 33,
   "id": "83a0d1d3",
   "metadata": {},
   "outputs": [
    {
     "name": "stdout",
     "output_type": "stream",
     "text": [
      "producto: Patineta Usada 4 | precio: 70\n",
      "producto: Patineta Nueva 5 | precio: 75\n",
      "producto: Patineta Nueva 6 | precio: 58\n",
      "producto: Patineta Nueva 7 | precio: 80\n",
      "producto: Patineta Nueva 8 | precio: 35\n",
      "producto: Patineta Nueva 9 | precio: 165\n",
      "producto: Patineta Usada 10 | precio: 54\n",
      "producto: Patineta Usada 11 | precio: 99\n",
      "producto: Patineta Nueva 12 | precio: 110\n"
     ]
    }
   ],
   "source": [
    "import re\n",
    "\n",
    "divs_my = soup.find_all('div', class_='detail-box')\n",
    "productos_my = []\n",
    "precios_my = []\n",
    "patron = re.compile(r'\\b[4-9]\\d*\\b|\\b\\d{2,}\\b')\n",
    "\n",
    "for div in divs_my:\n",
    "    if (div.h6 is not None) and ('Patineta' in div.h5.text):\n",
    "        precio = div.h6.get_text(strip=True).replace('$', '')\n",
    "        producto = div.h5.get_text(strip=True)\n",
    "        numero_en_producto = re.findall(patron, producto)\n",
    "        if any(int(numero) > 3 for numero in numero_en_producto):\n",
    "            print(f'producto: {producto:<16} | precio: {precio}')\n",
    "            productos_my.append(producto)\n",
    "            precios_my.append(precio)"
   ]
  },
  {
   "cell_type": "markdown",
   "id": "2886ed12",
   "metadata": {},
   "source": [
    "Conclusión: Se logro mostrar los nombres que tengan el número mayor a 3 con su respectivo precio. Se uso \"import re\" que es una declaración en Python que importa el módulo re, el cual proporciona soporte para expresiones regulares (regex) y  las expresiones regulares son patrones utilizados para encontrar coincidencias dentro de cadenas de texto."
   ]
  },
  {
   "cell_type": "markdown",
   "id": "edcf2e10",
   "metadata": {},
   "source": [
    "### 3. Traer cualquier texto de la pagina que tenga la palabra descuento u oferta."
   ]
  },
  {
   "cell_type": "code",
   "execution_count": 36,
   "id": "f5b36247",
   "metadata": {},
   "outputs": [
    {
     "name": "stdout",
     "output_type": "stream",
     "text": [
      "Descuentos 20% Off\n",
      "Aprovechá nuestras ofertas.\n",
      "Descuentos 20% Off\n",
      "Aprovechá nuestras ofertas.\n",
      "Descuentos 20% Off\n",
      "Aprovechá nuestras ofertas.\n",
      "Suscríbete para obtener descuentos y ofertas\n"
     ]
    }
   ],
   "source": [
    "# Buscar todos los elementos que contienen las palabras \"descuento\" o \"oferta\"\n",
    "textos_con_descuento_oferta = soup.find_all(text=lambda text: 'descuento' in text.lower() or 'oferta' in text.lower())\n",
    "    \n",
    "# Imprimir los textos encontrados\n",
    "for texto in textos_con_descuento_oferta:\n",
    "    print(texto.get_text(strip=True))"
   ]
  },
  {
   "cell_type": "markdown",
   "id": "5375f72e",
   "metadata": {},
   "source": [
    "Conclusión: Se hizo una busqueda usando find_all"
   ]
  },
  {
   "cell_type": "markdown",
   "id": "2e714159",
   "metadata": {},
   "source": [
    "### 4. Generar un archivo .csv con dos columnas: Una conteniendo el nombre del cliente y otra su testimonio."
   ]
  },
  {
   "cell_type": "code",
   "execution_count": 62,
   "id": "a8d14672",
   "metadata": {},
   "outputs": [
    {
     "name": "stdout",
     "output_type": "stream",
     "text": [
      "cliente: Cliente 1        | testimonio: Los productos me encantaron y los precios son muy buenos. Lo recomiendo.\n",
      "cliente: Cliente 2        | testimonio: ¡La calidad y variedad de patinetas es impresionante! Definitivamente volveré a comprar.\n",
      "cliente: Cliente 3        | testimonio: Estoy muy conforme. Hay muchas patinetas y los diseños son fantásticos.\n"
     ]
    }
   ],
   "source": [
    "divs = soup.find_all('div', class_='detail-box')\n",
    "clientes = []\n",
    "testimonios = []\n",
    "# Se añade is not none para p y h5\n",
    "for div in divs:\n",
    "    if div.h5 is not None and div.p is not None and 'Cliente' in div.h5.text:\n",
    "        cliente = div.h5.get_text(strip=True)\n",
    "        testimonio = div.p.get_text(strip=True)\n",
    "        print(f'cliente: {cliente:<16} | testimonio: {testimonio}')\n",
    "        clientes.append(cliente)\n",
    "        testimonios.append(testimonio)"
   ]
  },
  {
   "cell_type": "code",
   "execution_count": 63,
   "id": "7e92aa9a",
   "metadata": {
    "scrolled": true
   },
   "outputs": [
    {
     "data": {
      "text/plain": [
       "['Cliente 1', 'Cliente 2', 'Cliente 3']"
      ]
     },
     "execution_count": 63,
     "metadata": {},
     "output_type": "execute_result"
    }
   ],
   "source": [
    "clientes"
   ]
  },
  {
   "cell_type": "code",
   "execution_count": 64,
   "id": "7b824062",
   "metadata": {},
   "outputs": [
    {
     "data": {
      "text/plain": [
       "['Los productos me encantaron y los precios son muy buenos. Lo recomiendo.',\n",
       " '¡La calidad y variedad de patinetas es impresionante! Definitivamente volveré a comprar.',\n",
       " 'Estoy muy conforme. Hay muchas patinetas y los diseños son fantásticos.']"
      ]
     },
     "execution_count": 64,
     "metadata": {},
     "output_type": "execute_result"
    }
   ],
   "source": [
    "testimonios"
   ]
  },
  {
   "cell_type": "code",
   "execution_count": 65,
   "id": "efba4417",
   "metadata": {},
   "outputs": [],
   "source": [
    "clientes.insert(0,\"clientes\")\n",
    "testimonios.insert(0,\"testimonios\")"
   ]
  },
  {
   "cell_type": "code",
   "execution_count": 66,
   "id": "e42bac96",
   "metadata": {},
   "outputs": [],
   "source": [
    "datosClientes = dict(zip(clientes,testimonios))"
   ]
  },
  {
   "cell_type": "code",
   "execution_count": 67,
   "id": "1e4f1609",
   "metadata": {},
   "outputs": [
    {
     "data": {
      "text/plain": [
       "dict_items([('clientes', 'testimonios'), ('Cliente 1', 'Los productos me encantaron y los precios son muy buenos. Lo recomiendo.'), ('Cliente 2', '¡La calidad y variedad de patinetas es impresionante! Definitivamente volveré a comprar.'), ('Cliente 3', 'Estoy muy conforme. Hay muchas patinetas y los diseños son fantásticos.')])"
      ]
     },
     "execution_count": 67,
     "metadata": {},
     "output_type": "execute_result"
    }
   ],
   "source": [
    "datosClientes.items()"
   ]
  },
  {
   "cell_type": "code",
   "execution_count": 68,
   "id": "d677e8c4",
   "metadata": {},
   "outputs": [],
   "source": [
    "with open('datosClientes.csv','w') as f:\n",
    "    w = csv.writer(f)\n",
    "    w.writerows(datosClientes.items())"
   ]
  },
  {
   "cell_type": "markdown",
   "id": "8d42df68",
   "metadata": {},
   "source": [
    "Conclusión: Se realizo el proceso de almacenamiento de los datos en archivo 'csv'."
   ]
  }
 ],
 "metadata": {
  "kernelspec": {
   "display_name": "Python 3 (ipykernel)",
   "language": "python",
   "name": "python3"
  },
  "language_info": {
   "codemirror_mode": {
    "name": "ipython",
    "version": 3
   },
   "file_extension": ".py",
   "mimetype": "text/x-python",
   "name": "python",
   "nbconvert_exporter": "python",
   "pygments_lexer": "ipython3",
   "version": "3.10.9"
  }
 },
 "nbformat": 4,
 "nbformat_minor": 5
}
